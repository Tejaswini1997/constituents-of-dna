{
 "cells": [
  {
   "cell_type": "code",
   "execution_count": 56,
   "id": "55cd5dcc",
   "metadata": {},
   "outputs": [],
   "source": [
    "import os\n",
    "import sys\n",
    "import numpy as np\n",
    "import pandas as pd\n",
    "from matplotlib import pyplot as plt\n",
    "from matplotlib.font_manager import FontProperties\n",
    "from matplotlib import colors\n",
    "plt.rcParams[\"font.family\"] = \"Times New Roman\"\n",
    "plt.rcParams[\"mathtext.default\"] = \"rm\"\n",
    "plt.rcParams['text.usetex'] = True"
   ]
  },
  {
   "cell_type": "code",
   "execution_count": 57,
   "id": "1a8afe5d",
   "metadata": {},
   "outputs": [
    {
     "data": {
      "text/html": [
       "<div>\n",
       "<style scoped>\n",
       "    .dataframe tbody tr th:only-of-type {\n",
       "        vertical-align: middle;\n",
       "    }\n",
       "\n",
       "    .dataframe tbody tr th {\n",
       "        vertical-align: top;\n",
       "    }\n",
       "\n",
       "    .dataframe thead th {\n",
       "        text-align: right;\n",
       "    }\n",
       "</style>\n",
       "<table border=\"1\" class=\"dataframe\">\n",
       "  <thead>\n",
       "    <tr style=\"text-align: right;\">\n",
       "      <th></th>\n",
       "      <th>Eta</th>\n",
       "      <th>Phi</th>\n",
       "      <th>pT</th>\n",
       "    </tr>\n",
       "  </thead>\n",
       "  <tbody>\n",
       "    <tr>\n",
       "      <th>0</th>\n",
       "      <td>0.1030</td>\n",
       "      <td>0.0669</td>\n",
       "      <td>278.0</td>\n",
       "    </tr>\n",
       "    <tr>\n",
       "      <th>1</th>\n",
       "      <td>-0.0815</td>\n",
       "      <td>-0.0576</td>\n",
       "      <td>323.0</td>\n",
       "    </tr>\n",
       "    <tr>\n",
       "      <th>2</th>\n",
       "      <td>0.1120</td>\n",
       "      <td>-0.0580</td>\n",
       "      <td>283.0</td>\n",
       "    </tr>\n",
       "    <tr>\n",
       "      <th>3</th>\n",
       "      <td>-0.1340</td>\n",
       "      <td>0.0810</td>\n",
       "      <td>203.0</td>\n",
       "    </tr>\n",
       "    <tr>\n",
       "      <th>4</th>\n",
       "      <td>0.0000</td>\n",
       "      <td>0.0000</td>\n",
       "      <td>423.0</td>\n",
       "    </tr>\n",
       "    <tr>\n",
       "      <th>...</th>\n",
       "      <td>...</td>\n",
       "      <td>...</td>\n",
       "      <td>...</td>\n",
       "    </tr>\n",
       "    <tr>\n",
       "      <th>19475</th>\n",
       "      <td>0.0000</td>\n",
       "      <td>0.0000</td>\n",
       "      <td>448.0</td>\n",
       "    </tr>\n",
       "    <tr>\n",
       "      <th>19476</th>\n",
       "      <td>0.1320</td>\n",
       "      <td>-0.0828</td>\n",
       "      <td>194.0</td>\n",
       "    </tr>\n",
       "    <tr>\n",
       "      <th>19477</th>\n",
       "      <td>-0.0545</td>\n",
       "      <td>0.0373</td>\n",
       "      <td>430.0</td>\n",
       "    </tr>\n",
       "    <tr>\n",
       "      <th>19478</th>\n",
       "      <td>0.1050</td>\n",
       "      <td>-0.0379</td>\n",
       "      <td>301.0</td>\n",
       "    </tr>\n",
       "    <tr>\n",
       "      <th>19479</th>\n",
       "      <td>-0.1210</td>\n",
       "      <td>0.0433</td>\n",
       "      <td>264.0</td>\n",
       "    </tr>\n",
       "  </tbody>\n",
       "</table>\n",
       "<p>19480 rows × 3 columns</p>\n",
       "</div>"
      ],
      "text/plain": [
       "          Eta     Phi     pT\n",
       "0      0.1030  0.0669  278.0\n",
       "1     -0.0815 -0.0576  323.0\n",
       "2      0.1120 -0.0580  283.0\n",
       "3     -0.1340  0.0810  203.0\n",
       "4      0.0000  0.0000  423.0\n",
       "...       ...     ...    ...\n",
       "19475  0.0000  0.0000  448.0\n",
       "19476  0.1320 -0.0828  194.0\n",
       "19477 -0.0545  0.0373  430.0\n",
       "19478  0.1050 -0.0379  301.0\n",
       "19479 -0.1210  0.0433  264.0\n",
       "\n",
       "[19480 rows x 3 columns]"
      ]
     },
     "execution_count": 57,
     "metadata": {},
     "output_type": "execute_result"
    }
   ],
   "source": [
    "Data = pd.read_csv('/Users/apple/Documents/softwares/iyer/text_files/axionaa.txt', sep=\"\\t\",names=[\"Eta\",\"Phi\",\"pT\"] )\n",
    "Data"
   ]
  },
  {
   "cell_type": "code",
   "execution_count": 58,
   "id": "1ca17d14",
   "metadata": {},
   "outputs": [
    {
     "data": {
      "text/plain": [
       "(19480, 3)"
      ]
     },
     "execution_count": 58,
     "metadata": {},
     "output_type": "execute_result"
    }
   ],
   "source": [
    "Data.shape"
   ]
  },
  {
   "cell_type": "code",
   "execution_count": 59,
   "id": "6a718afe",
   "metadata": {},
   "outputs": [],
   "source": [
    "eta = Data['Eta']\n",
    "phi = Data['Phi']\n",
    "pt = Data['pT']"
   ]
  },
  {
   "cell_type": "code",
   "execution_count": 60,
   "id": "8d08c5bc",
   "metadata": {},
   "outputs": [],
   "source": [
    "eta_crop = eta[:9600]\n",
    "phi_crop = phi[:9600]\n",
    "pt_crop = pt[:9600]"
   ]
  },
  {
   "cell_type": "code",
   "execution_count": 61,
   "id": "17915380",
   "metadata": {},
   "outputs": [
    {
     "data": {
      "text/plain": [
       "0       0.10300\n",
       "1      -0.08150\n",
       "2       0.11200\n",
       "3      -0.13400\n",
       "4       0.00000\n",
       "         ...   \n",
       "9595    0.15100\n",
       "9596   -0.09170\n",
       "9597    0.02820\n",
       "9598   -0.00896\n",
       "9599    0.11200\n",
       "Name: Eta, Length: 9600, dtype: float64"
      ]
     },
     "execution_count": 61,
     "metadata": {},
     "output_type": "execute_result"
    }
   ],
   "source": [
    "eta_crop\n"
   ]
  },
  {
   "cell_type": "code",
   "execution_count": 62,
   "id": "9a855dce",
   "metadata": {},
   "outputs": [],
   "source": [
    "eta_array = eta_crop.to_numpy()\n",
    "phi_array = phi_crop.to_numpy()\n",
    "pt_array = pt_crop.to_numpy()"
   ]
  },
  {
   "cell_type": "code",
   "execution_count": 63,
   "id": "cb32a947",
   "metadata": {},
   "outputs": [
    {
     "data": {
      "text/plain": [
       "array([278., 323., 283., ..., 230., 337., 202.])"
      ]
     },
     "execution_count": 63,
     "metadata": {},
     "output_type": "execute_result"
    }
   ],
   "source": [
    "pt_array"
   ]
  },
  {
   "cell_type": "code",
   "execution_count": 64,
   "id": "f7f00aaa",
   "metadata": {},
   "outputs": [
    {
     "data": {
      "text/plain": [
       "(9600,)"
      ]
     },
     "execution_count": 64,
     "metadata": {},
     "output_type": "execute_result"
    }
   ],
   "source": [
    "eta_array.shape"
   ]
  },
  {
   "cell_type": "code",
   "execution_count": 65,
   "id": "0fc358dd",
   "metadata": {},
   "outputs": [],
   "source": [
    "etas = np.reshape(eta_array, (480,20))\n",
    "phis = np.reshape(phi_array, (480,20))\n",
    "pts = np.reshape(pt_array, (480,20))"
   ]
  },
  {
   "cell_type": "code",
   "execution_count": 66,
   "id": "07290812",
   "metadata": {},
   "outputs": [
    {
     "data": {
      "text/plain": [
       "array([[278.   , 323.   , 283.   , ..., 559.   , 139.   ,   0.986],\n",
       "       [320.   , 456.   ,  81.4  , ...,   0.978, 582.   ,   1.09 ],\n",
       "       [  1.65 ,   2.97 ,   1.3  , ..., 597.   ,   4.61 , 410.   ],\n",
       "       ...,\n",
       "       [398.   , 221.   ,   1.01 , ..., 454.   , 255.   , 372.   ],\n",
       "       [111.   , 358.   ,   1.48 , ...,   1.36 , 541.   ,   0.991],\n",
       "       [502.   , 657.   ,  89.8  , ..., 230.   , 337.   , 202.   ]])"
      ]
     },
     "execution_count": 66,
     "metadata": {},
     "output_type": "execute_result"
    }
   ],
   "source": [
    "pts"
   ]
  },
  {
   "cell_type": "code",
   "execution_count": 67,
   "id": "0733272f",
   "metadata": {},
   "outputs": [
    {
     "data": {
      "text/plain": [
       "array([ 0.103   , -0.0815  ,  0.112   , -0.134   ,  0.      ,  0.000794,\n",
       "       -0.235   ,  0.0405  , -0.0359  ,  0.121   ,  0.157   , -0.0762  ,\n",
       "        0.      ,  0.19    , -0.0748  ,  0.      ,  0.196   , -0.0264  ,\n",
       "       -0.17    ,  0.156   ])"
      ]
     },
     "execution_count": 67,
     "metadata": {},
     "output_type": "execute_result"
    }
   ],
   "source": [
    "etas[0]"
   ]
  },
  {
   "cell_type": "code",
   "execution_count": 69,
   "id": "0e72d932",
   "metadata": {
    "scrolled": false
   },
   "outputs": [
    {
     "name": "stdout",
     "output_type": "stream",
     "text": [
      "(480,)\n",
      "[ 6.69e-02 -4.49e-02  3.15e-01 -2.99e-02 -3.60e-03 -1.59e-01 -1.32e-01\n",
      "  2.79e-01 -1.25e-03  8.71e-02  3.32e-02 -2.07e-01  1.21e-01  3.73e-01\n",
      "  0.00e+00 -1.53e-01 -2.01e-01 -2.26e-02  2.62e-01  0.00e+00  0.00e+00\n",
      "  0.00e+00  6.04e-02 -2.12e-02  0.00e+00  2.02e-01  1.30e-01 -1.19e-01\n",
      " -2.56e-01  5.67e-02  4.78e-02 -8.78e-02 -8.95e-02 -3.46e-02 -1.31e-01\n",
      " -1.63e-01  0.00e+00  0.00e+00  0.00e+00  1.83e-01  3.89e-03  1.32e-01\n",
      " -1.63e-01  0.00e+00  0.00e+00  7.17e-02 -2.06e-01 -1.45e-01  0.00e+00\n",
      "  3.47e-02  0.00e+00  1.44e-03  1.06e-01  9.74e-02  6.52e-02 -6.70e-02\n",
      " -3.21e-04  0.00e+00  0.00e+00 -9.03e-02  1.04e-03 -9.68e-02 -1.39e-01\n",
      " -1.82e-01  0.00e+00  0.00e+00 -6.69e-03  2.04e-03  2.42e-04  7.50e-03\n",
      " -1.18e-01  2.73e-01  3.69e-01  6.56e-03  0.00e+00  1.65e-01  6.70e-02\n",
      " -1.11e-01 -5.76e-03  1.21e-01 -2.09e-02  1.87e-01  5.55e-04 -6.35e-02\n",
      " -9.52e-02  1.37e-04  1.30e-01 -8.30e-02 -6.10e-02 -2.54e-02  2.12e-01\n",
      "  2.20e-02  8.32e-02 -8.92e-02 -8.04e-02  0.00e+00 -5.70e-02  1.24e-01\n",
      " -1.85e-01  2.77e-01  0.00e+00  8.96e-05  1.42e-01  6.99e-02  7.27e-02\n",
      "  3.68e-02  0.00e+00 -1.30e-01  0.00e+00 -5.59e-02  1.27e-01  9.79e-02\n",
      "  0.00e+00  0.00e+00 -1.43e-01  1.81e-01  1.44e-03 -1.35e-01 -5.24e-02\n",
      "  6.84e-02 -1.15e-01 -6.08e-02  3.31e-02  5.49e-02  4.02e-02  1.78e-01\n",
      " -9.49e-02  5.64e-02 -1.94e-02 -1.81e-01  3.55e-01  0.00e+00  9.04e-02\n",
      "  8.12e-02 -1.61e-02  1.65e-04  0.00e+00 -1.62e-01  1.54e-01  0.00e+00\n",
      " -1.51e-04 -5.67e-03  1.03e-01  0.00e+00  2.04e-01  0.00e+00 -1.45e-01\n",
      "  4.62e-02  0.00e+00 -2.25e-01  0.00e+00  0.00e+00  6.27e-04  0.00e+00\n",
      "  0.00e+00 -1.82e-01  3.76e-02  0.00e+00 -1.79e-01  0.00e+00  7.48e-02\n",
      "  0.00e+00 -3.28e-01 -3.50e-02  0.00e+00  6.50e-02  3.88e-02 -1.23e-01\n",
      "  0.00e+00 -2.30e-01 -7.43e-02  2.05e-01  3.34e-01  0.00e+00  3.90e-02\n",
      " -1.31e-01 -2.34e-01  0.00e+00  2.81e-04 -3.39e-01 -2.61e-01 -3.78e-02\n",
      "  7.95e-02 -2.30e-01 -9.54e-02  2.47e-02 -8.58e-02  0.00e+00 -1.41e-02\n",
      "  0.00e+00  1.42e-03  1.18e-01  0.00e+00  1.50e-01  6.09e-02 -1.32e-03\n",
      " -7.34e-02  6.75e-02  1.26e-01 -5.55e-02 -1.60e-01  1.64e-01  0.00e+00\n",
      "  1.85e-01  0.00e+00  0.00e+00  0.00e+00  2.47e-02 -2.43e-02  4.16e-02\n",
      "  1.59e-01  0.00e+00  2.81e-01 -7.38e-02  6.52e-02  1.04e-01  0.00e+00\n",
      " -5.38e-02  0.00e+00  0.00e+00  0.00e+00  7.97e-02  0.00e+00  4.73e-02\n",
      "  2.29e-02 -4.47e-04  0.00e+00 -3.18e-01 -1.03e-01  1.60e-01  1.73e-02\n",
      "  9.33e-02  8.23e-02  8.62e-04  1.19e-01  0.00e+00 -4.66e-02 -3.76e-01\n",
      " -1.90e-01 -5.92e-04 -1.54e-01  0.00e+00  8.92e-02  2.73e-02  3.81e-01\n",
      "  0.00e+00 -3.03e-02 -8.18e-02  6.04e-04 -7.84e-02  3.63e-02 -1.00e-02\n",
      "  0.00e+00  6.69e-03  0.00e+00  1.09e-01  3.24e-02 -8.36e-03 -1.44e-01\n",
      "  2.16e-01  0.00e+00  6.55e-04 -6.94e-02  3.13e-02 -2.27e-01  0.00e+00\n",
      " -1.56e-01 -1.76e-02  1.77e-01  0.00e+00  1.11e-02  0.00e+00  9.01e-02\n",
      " -1.40e-03  0.00e+00  1.44e-01  7.72e-02 -2.08e-02  4.37e-02  1.60e-01\n",
      "  0.00e+00  5.20e-03  0.00e+00  0.00e+00  3.21e-02 -1.88e-02 -8.21e-02\n",
      "  1.56e-01  0.00e+00 -5.39e-02  2.71e-01  3.27e-01  8.59e-02 -1.25e-01\n",
      "  0.00e+00 -7.23e-02 -3.21e-02 -6.19e-02  5.00e-02 -2.51e-02 -9.70e-02\n",
      "  2.55e-02 -5.45e-02 -1.58e-02  1.80e-01 -5.15e-02 -4.36e-02  7.99e-02\n",
      " -5.63e-05  0.00e+00 -8.96e-02  5.59e-02  0.00e+00 -3.50e-02  7.45e-02\n",
      " -1.32e-01  3.08e-03  0.00e+00  2.04e-02  8.80e-04 -3.12e-02 -5.44e-02\n",
      " -4.94e-04 -9.33e-02 -7.32e-02 -2.33e-02  0.00e+00  4.32e-02 -7.06e-02\n",
      " -5.81e-02 -9.48e-02  0.00e+00  0.00e+00 -4.29e-02 -1.43e-01 -4.48e-02\n",
      "  2.78e-02  1.82e-01  1.29e-01 -2.37e-01  0.00e+00 -6.61e-02 -2.11e-01\n",
      " -8.28e-02  0.00e+00 -5.68e-04 -2.09e-01  0.00e+00  4.66e-02 -8.04e-02\n",
      "  0.00e+00  2.53e-02  7.86e-02  0.00e+00 -2.55e-01 -2.28e-02 -7.04e-02\n",
      "  3.44e-02  4.20e-02  2.77e-01  1.32e-02  3.21e-02  0.00e+00 -8.87e-02\n",
      " -4.54e-03 -1.14e-01 -7.78e-02 -4.79e-02  8.94e-02  0.00e+00 -7.89e-02\n",
      " -6.14e-02  0.00e+00  6.23e-02 -2.87e-02  4.65e-02  0.00e+00 -2.80e-02\n",
      "  1.57e-01  8.49e-02 -2.57e-04 -8.22e-02 -1.62e-01  7.65e-02  1.45e-01\n",
      "  0.00e+00 -9.06e-02 -4.81e-02  0.00e+00  5.95e-02 -9.15e-02  0.00e+00\n",
      "  5.91e-02  0.00e+00  0.00e+00  1.05e-01  6.85e-04 -8.89e-03 -5.15e-02\n",
      "  2.67e-03  1.49e-02 -6.24e-02  4.70e-02  1.33e-01 -6.90e-02 -1.23e-01\n",
      "  0.00e+00 -1.42e-01  3.94e-02  0.00e+00  4.57e-02  0.00e+00  1.88e-01\n",
      "  1.18e-01 -9.86e-02  0.00e+00  8.79e-02  0.00e+00  1.56e-01  2.19e-02\n",
      " -1.38e-01  0.00e+00  0.00e+00 -7.30e-02  0.00e+00  6.59e-02  6.58e-02\n",
      " -1.07e-01 -2.83e-02  2.50e-03  0.00e+00  0.00e+00 -1.20e-02  3.34e-01\n",
      "  2.17e-01  0.00e+00  0.00e+00  7.58e-02  0.00e+00 -5.33e-02  3.00e-02\n",
      "  2.23e-01 -7.68e-02  8.40e-02 -2.02e-02  9.90e-02 -5.08e-02  1.46e-01\n",
      "  1.54e-03  3.09e-01 -2.49e-02  1.56e-01  0.00e+00  9.11e-02  3.63e-02\n",
      "  5.61e-02 -2.57e-02  0.00e+00  0.00e+00 -3.13e-01  2.52e-02  2.92e-01\n",
      " -7.75e-02 -1.23e-03  0.00e+00 -2.06e-01 -1.12e-01  0.00e+00  2.59e-01\n",
      "  3.30e-01  1.29e-01  1.96e-01  0.00e+00  0.00e+00  4.63e-02  1.49e-01\n",
      " -8.46e-02 -1.80e-02 -1.48e-01  0.00e+00]\n"
     ]
    }
   ],
   "source": [
    "print(phis[:,0].shape)\n",
    "print(phis[:,0])"
   ]
  },
  {
   "cell_type": "code",
   "execution_count": 70,
   "id": "35c94695",
   "metadata": {},
   "outputs": [
    {
     "data": {
      "text/plain": [
       "array([ 6.69e-02, -4.49e-02,  3.15e-01, -2.99e-02, -3.60e-03, -1.59e-01,\n",
       "       -1.32e-01,  2.79e-01, -1.25e-03,  8.71e-02,  3.32e-02, -2.07e-01,\n",
       "        1.21e-01,  3.73e-01,  0.00e+00, -1.53e-01, -2.01e-01, -2.26e-02,\n",
       "        2.62e-01,  0.00e+00,  0.00e+00,  0.00e+00,  6.04e-02, -2.12e-02,\n",
       "        0.00e+00,  2.02e-01,  1.30e-01, -1.19e-01, -2.56e-01,  5.67e-02,\n",
       "        4.78e-02, -8.78e-02, -8.95e-02, -3.46e-02, -1.31e-01, -1.63e-01,\n",
       "        0.00e+00,  0.00e+00,  0.00e+00,  1.83e-01,  3.89e-03,  1.32e-01,\n",
       "       -1.63e-01,  0.00e+00,  0.00e+00,  7.17e-02, -2.06e-01, -1.45e-01,\n",
       "        0.00e+00,  3.47e-02,  0.00e+00,  1.44e-03,  1.06e-01,  9.74e-02,\n",
       "        6.52e-02, -6.70e-02, -3.21e-04,  0.00e+00,  0.00e+00, -9.03e-02,\n",
       "        1.04e-03, -9.68e-02, -1.39e-01, -1.82e-01,  0.00e+00,  0.00e+00,\n",
       "       -6.69e-03,  2.04e-03,  2.42e-04,  7.50e-03, -1.18e-01,  2.73e-01,\n",
       "        3.69e-01,  6.56e-03,  0.00e+00,  1.65e-01,  6.70e-02, -1.11e-01,\n",
       "       -5.76e-03,  1.21e-01, -2.09e-02,  1.87e-01,  5.55e-04, -6.35e-02,\n",
       "       -9.52e-02,  1.37e-04,  1.30e-01, -8.30e-02, -6.10e-02, -2.54e-02,\n",
       "        2.12e-01,  2.20e-02,  8.32e-02, -8.92e-02, -8.04e-02,  0.00e+00,\n",
       "       -5.70e-02,  1.24e-01, -1.85e-01,  2.77e-01,  0.00e+00,  8.96e-05,\n",
       "        1.42e-01,  6.99e-02,  7.27e-02,  3.68e-02,  0.00e+00, -1.30e-01,\n",
       "        0.00e+00, -5.59e-02,  1.27e-01,  9.79e-02,  0.00e+00,  0.00e+00,\n",
       "       -1.43e-01,  1.81e-01,  1.44e-03, -1.35e-01, -5.24e-02,  6.84e-02,\n",
       "       -1.15e-01, -6.08e-02,  3.31e-02,  5.49e-02,  4.02e-02,  1.78e-01,\n",
       "       -9.49e-02,  5.64e-02, -1.94e-02, -1.81e-01,  3.55e-01,  0.00e+00,\n",
       "        9.04e-02,  8.12e-02, -1.61e-02,  1.65e-04,  0.00e+00, -1.62e-01,\n",
       "        1.54e-01,  0.00e+00, -1.51e-04, -5.67e-03,  1.03e-01,  0.00e+00,\n",
       "        2.04e-01,  0.00e+00, -1.45e-01,  4.62e-02,  0.00e+00, -2.25e-01,\n",
       "        0.00e+00,  0.00e+00,  6.27e-04,  0.00e+00,  0.00e+00, -1.82e-01,\n",
       "        3.76e-02,  0.00e+00, -1.79e-01,  0.00e+00,  7.48e-02,  0.00e+00,\n",
       "       -3.28e-01, -3.50e-02,  0.00e+00,  6.50e-02,  3.88e-02, -1.23e-01,\n",
       "        0.00e+00, -2.30e-01, -7.43e-02,  2.05e-01,  3.34e-01,  0.00e+00,\n",
       "        3.90e-02, -1.31e-01, -2.34e-01,  0.00e+00,  2.81e-04, -3.39e-01,\n",
       "       -2.61e-01, -3.78e-02,  7.95e-02, -2.30e-01, -9.54e-02,  2.47e-02,\n",
       "       -8.58e-02,  0.00e+00, -1.41e-02,  0.00e+00,  1.42e-03,  1.18e-01,\n",
       "        0.00e+00,  1.50e-01,  6.09e-02, -1.32e-03, -7.34e-02,  6.75e-02,\n",
       "        1.26e-01, -5.55e-02, -1.60e-01,  1.64e-01,  0.00e+00,  1.85e-01,\n",
       "        0.00e+00,  0.00e+00,  0.00e+00,  2.47e-02, -2.43e-02,  4.16e-02,\n",
       "        1.59e-01,  0.00e+00,  2.81e-01, -7.38e-02,  6.52e-02,  1.04e-01,\n",
       "        0.00e+00, -5.38e-02,  0.00e+00,  0.00e+00,  0.00e+00,  7.97e-02,\n",
       "        0.00e+00,  4.73e-02,  2.29e-02, -4.47e-04,  0.00e+00, -3.18e-01,\n",
       "       -1.03e-01,  1.60e-01,  1.73e-02,  9.33e-02,  8.23e-02,  8.62e-04,\n",
       "        1.19e-01,  0.00e+00, -4.66e-02, -3.76e-01, -1.90e-01, -5.92e-04,\n",
       "       -1.54e-01,  0.00e+00,  8.92e-02,  2.73e-02,  3.81e-01,  0.00e+00,\n",
       "       -3.03e-02, -8.18e-02,  6.04e-04, -7.84e-02,  3.63e-02, -1.00e-02,\n",
       "        0.00e+00,  6.69e-03,  0.00e+00,  1.09e-01,  3.24e-02, -8.36e-03,\n",
       "       -1.44e-01,  2.16e-01,  0.00e+00,  6.55e-04, -6.94e-02,  3.13e-02,\n",
       "       -2.27e-01,  0.00e+00, -1.56e-01, -1.76e-02,  1.77e-01,  0.00e+00,\n",
       "        1.11e-02,  0.00e+00,  9.01e-02, -1.40e-03,  0.00e+00,  1.44e-01,\n",
       "        7.72e-02, -2.08e-02,  4.37e-02,  1.60e-01,  0.00e+00,  5.20e-03,\n",
       "        0.00e+00,  0.00e+00,  3.21e-02, -1.88e-02, -8.21e-02,  1.56e-01,\n",
       "        0.00e+00, -5.39e-02,  2.71e-01,  3.27e-01,  8.59e-02, -1.25e-01,\n",
       "        0.00e+00, -7.23e-02, -3.21e-02, -6.19e-02,  5.00e-02, -2.51e-02,\n",
       "       -9.70e-02,  2.55e-02, -5.45e-02, -1.58e-02,  1.80e-01, -5.15e-02,\n",
       "       -4.36e-02,  7.99e-02, -5.63e-05,  0.00e+00, -8.96e-02,  5.59e-02,\n",
       "        0.00e+00, -3.50e-02,  7.45e-02, -1.32e-01,  3.08e-03,  0.00e+00,\n",
       "        2.04e-02,  8.80e-04, -3.12e-02, -5.44e-02, -4.94e-04, -9.33e-02,\n",
       "       -7.32e-02, -2.33e-02,  0.00e+00,  4.32e-02, -7.06e-02, -5.81e-02,\n",
       "       -9.48e-02,  0.00e+00,  0.00e+00, -4.29e-02, -1.43e-01, -4.48e-02,\n",
       "        2.78e-02,  1.82e-01,  1.29e-01, -2.37e-01,  0.00e+00, -6.61e-02,\n",
       "       -2.11e-01, -8.28e-02,  0.00e+00, -5.68e-04, -2.09e-01,  0.00e+00,\n",
       "        4.66e-02, -8.04e-02,  0.00e+00,  2.53e-02,  7.86e-02,  0.00e+00,\n",
       "       -2.55e-01, -2.28e-02, -7.04e-02,  3.44e-02,  4.20e-02,  2.77e-01,\n",
       "        1.32e-02,  3.21e-02,  0.00e+00, -8.87e-02, -4.54e-03, -1.14e-01,\n",
       "       -7.78e-02, -4.79e-02,  8.94e-02,  0.00e+00, -7.89e-02, -6.14e-02,\n",
       "        0.00e+00,  6.23e-02, -2.87e-02,  4.65e-02,  0.00e+00, -2.80e-02,\n",
       "        1.57e-01,  8.49e-02, -2.57e-04, -8.22e-02, -1.62e-01,  7.65e-02,\n",
       "        1.45e-01,  0.00e+00, -9.06e-02, -4.81e-02,  0.00e+00,  5.95e-02,\n",
       "       -9.15e-02,  0.00e+00,  5.91e-02,  0.00e+00,  0.00e+00,  1.05e-01,\n",
       "        6.85e-04, -8.89e-03, -5.15e-02,  2.67e-03,  1.49e-02, -6.24e-02,\n",
       "        4.70e-02,  1.33e-01, -6.90e-02, -1.23e-01,  0.00e+00, -1.42e-01,\n",
       "        3.94e-02,  0.00e+00,  4.57e-02,  0.00e+00,  1.88e-01,  1.18e-01,\n",
       "       -9.86e-02,  0.00e+00,  8.79e-02,  0.00e+00,  1.56e-01,  2.19e-02,\n",
       "       -1.38e-01,  0.00e+00,  0.00e+00, -7.30e-02,  0.00e+00,  6.59e-02,\n",
       "        6.58e-02, -1.07e-01, -2.83e-02,  2.50e-03,  0.00e+00,  0.00e+00,\n",
       "       -1.20e-02,  3.34e-01,  2.17e-01,  0.00e+00,  0.00e+00,  7.58e-02,\n",
       "        0.00e+00, -5.33e-02,  3.00e-02,  2.23e-01, -7.68e-02,  8.40e-02,\n",
       "       -2.02e-02,  9.90e-02, -5.08e-02,  1.46e-01,  1.54e-03,  3.09e-01,\n",
       "       -2.49e-02,  1.56e-01,  0.00e+00,  9.11e-02,  3.63e-02,  5.61e-02,\n",
       "       -2.57e-02,  0.00e+00,  0.00e+00, -3.13e-01,  2.52e-02,  2.92e-01,\n",
       "       -7.75e-02, -1.23e-03,  0.00e+00, -2.06e-01, -1.12e-01,  0.00e+00,\n",
       "        2.59e-01,  3.30e-01,  1.29e-01,  1.96e-01,  0.00e+00,  0.00e+00,\n",
       "        4.63e-02,  1.49e-01, -8.46e-02, -1.80e-02, -1.48e-01,  0.00e+00])"
      ]
     },
     "execution_count": 70,
     "metadata": {},
     "output_type": "execute_result"
    }
   ],
   "source": [
    "phis[:,0]"
   ]
  },
  {
   "cell_type": "code",
   "execution_count": 15,
   "id": "6db5b262",
   "metadata": {},
   "outputs": [],
   "source": [
    "phis = (phis.T - phis[:,0]).T"
   ]
  },
  {
   "cell_type": "code",
   "execution_count": null,
   "id": "1bb51abc",
   "metadata": {},
   "outputs": [],
   "source": []
  },
  {
   "cell_type": "markdown",
   "id": "1c724915",
   "metadata": {},
   "source": [
    "# etas and phis before preprocessing \n",
    "only for first 200 constituents of (3489,200)\n"
   ]
  },
  {
   "cell_type": "code",
   "execution_count": 16,
   "id": "282f7fe4",
   "metadata": {},
   "outputs": [
    {
     "data": {
      "image/png": "[encoded data removed]",
      "text/plain": [
       "<Figure size 1000x300 with 2 Axes>"
      ]
     },
     "metadata": {},
     "output_type": "display_data"
    }
   ],
   "source": [
    "fig, axs = plt.subplots( 1, 2, figsize=(10,3) )\n",
    "rnge = ( ( -1 , 1 ), ( -np.pi/5 , np.pi/5 ) )\n",
    "axs[0].hist2d( etas[0], phis[0], weights=pts[0], bins=40, cmap='jet', range=rnge, norm=colors.LogNorm() )\n",
    "axs[1].hist2d( etas[1], phis[1], weights=pts[1], bins=40, cmap='jet', range=rnge, norm=colors.LogNorm() )\n",
    "fig.tight_layout()"
   ]
  },
  {
   "cell_type": "code",
   "execution_count": 17,
   "id": "3a6addc2",
   "metadata": {
    "scrolled": true
   },
   "outputs": [
    {
     "data": {
      "image/png": "[encoded data removed]",
      "text/plain": [
       "<Figure size 500x300 with 1 Axes>"
      ]
     },
     "metadata": {},
     "output_type": "display_data"
    }
   ],
   "source": [
    "fig, axs = plt.subplots( 1, 1, figsize=(5,3) )\n",
    "rnge = ( ( -1 , 1 ), ( -np.pi/6 , np.pi/6 ) )\n",
    "axs.hist2d( etas.reshape(-1), phis.reshape(-1), weights=pts.reshape(-1), bins=40, cmap='jet', range=rnge, norm=colors.LogNorm() )\n",
    "#axs.hist2d( etas.reshape(-1), phis.reshape(-1), weights=pts.reshape(-1), bins=40, cmap='gist_heat_r', range=rnge )\n",
    "fig.tight_layout()"
   ]
  },
  {
   "cell_type": "code",
   "execution_count": 18,
   "id": "62b693ff",
   "metadata": {
    "scrolled": true
   },
   "outputs": [
    {
     "data": {
      "image/png": "[encoded data removed]",
      "text/plain": [
       "<Figure size 500x300 with 1 Axes>"
      ]
     },
     "metadata": {},
     "output_type": "display_data"
    }
   ],
   "source": [
    "fig, axs = plt.subplots( 1, 1, figsize=(5,3) )\n",
    "rnge = ( ( -1 , 1 ), ( -np.pi/6 , np.pi/6 ) )\n",
    "axs.hist2d( etas.reshape(-1), phis.reshape(-1), weights=pts.reshape(-1), bins=40, cmap='jet', range=rnge, norm=colors.LogNorm() )\n",
    "#axs.hist2d( etas.reshape(-1), phis.reshape(-1), weights=pts.reshape(-1), bins=40, cmap='gist_heat_r', range=rnge )\n",
    "fig.tight_layout()"
   ]
  },
  {
   "cell_type": "code",
   "execution_count": null,
   "id": "37c2383d",
   "metadata": {},
   "outputs": [],
   "source": [
    "#!/usr/bin/env python\n",
    "\n",
    "# script written by Christof Sauer, using code written for https://arxiv.org/abs/1808.08979v3\n",
    "\n",
    "# Standard imports\n",
    "import sys\n",
    "import time\n",
    "import pprint\n",
    "import argparse\n",
    "\n",
    "# Scientific imports\n",
    "import numpy as np\n",
    "import pandas as pd\n",
    "\n",
    "# Silence some annoying deprecation warnings\n",
    "import warnings\n",
    "warnings.filterwarnings(\"ignore\")\n",
    "\n",
    "\n",
    "\"\"\"\n",
    "  Some global settings\n",
    "\"\"\"\n",
    "\n",
    "# Input/output settings\n",
    "__signal_col__  = \"is_signal_new\"\n",
    "__mass_col__    = \"mass\"\n",
    "__batch_size__ = 1000\n",
    "__n_warning__ = 0.7\n",
    "__time_start__ = time.time()\n",
    "n_shift_phi, n_shift_eta = 0, 0\n",
    "\n",
    "# Grid settings\n",
    "xpixels = np.arange(-2.6, 2.6, 0.029)\n",
    "ypixels = np.arange(-np.pi, np.pi, 0.035)\n",
    "\n",
    "\n",
    "# Calculate pseudorapidity of pixel entries\n",
    "def eta (pT, pz):\n",
    "\n",
    "  small = 1e-10\n",
    "  small_pT = (np.abs(pT) < small)\n",
    "  small_pz = (np.abs(pz) < small)\n",
    "  not_small = ~(small_pT | small_pz)\n",
    "\n",
    "  theta = np.arctan(pT[not_small]/pz[not_small])\n",
    "  theta[theta < 0] += np.pi\n",
    "\n",
    "  etas = np.zeros_like(pT)\n",
    "  etas[small_pz] = 0\n",
    "  etas[small_pT] = 1e-10\n",
    "  etas[not_small] = np.log(np.tan(theta/2))\n",
    "  return etas\n",
    " \n",
    "\n",
    "# Calculate phi (in range [-pi,pi]) of pixel entries\n",
    "def phi (px, py):\n",
    "\n",
    "  \"\"\"\n",
    "    phis are returned in rad., np.arctan(0,0)=0 -> zero constituents set to -np.pi\n",
    "  \"\"\"\n",
    "\n",
    "  phis = np.arctan2(py,px)\n",
    "  phis[phis < 0] += 2*np.pi\n",
    "  phis[phis > 2*np.pi] -= 2*np.pi\n",
    "  phis = phis - np.pi \n",
    "  return phis\n",
    " \n",
    "\n",
    "# Put eta-phi entries on grid\n",
    "def orig_image (etas, phis, es):\n",
    "\n",
    "  \"\"\"\n",
    "    Gives the value on grid with minimal distance,\n",
    "    eg. for xpixel = (0,1,2,3,..) eta=1.3 -> xpixel=1, eta=1.6 ->xpixel=2\n",
    "  \"\"\"\n",
    "\n",
    "  z = np.zeros((etas.shape[0],len(xpixels),len(ypixels)))\n",
    "  in_grid = ~((etas < xpixels[0]) | (etas > xpixels[-1]) | (phis < ypixels[0]) | (phis > ypixels[-1]))\n",
    "  xcoords = np.argmin(np.abs(etas[:,None,:] - xpixels[None,:,None]),axis=1)\n",
    "  ycoords = np.argmin(np.abs(phis[:,None,:] - ypixels[None,:,None]),axis=1)\n",
    "  ncoords = np.repeat(np.arange(etas.shape[0])[:,None],etas.shape[1],axis=1)\n",
    "  z[ncoords[in_grid],ycoords[in_grid],xcoords[in_grid]] = es[in_grid]\n",
    "  return z\n",
    " \n",
    "\n",
    "def print_time (msg):\n",
    "\n",
    "  print(\"[%8.2f] %s\"%(time.time()-__time_start__,msg))\n",
    "\n",
    "\n",
    "def img_mom (x, y, weights, x_power, y_power):\n",
    "\n",
    "  \"\"\"\n",
    "    returns image momenta for centroid and principal axis\n",
    "  \"\"\"\n",
    "  return ((x**x_power)*(y**y_power)*weights).sum()\n",
    "\n",
    "\n",
    "def preprocessing (x ,y, weights, rotate=True, flip=True):\n",
    "\n",
    "  \"\"\"\n",
    "    (x,y) are the coordinates and weights the corresponding values, shifts\n",
    "    centroid to origin, rotates image, so that principal axis is vertical,\n",
    "    flips image, so that most weights lay in (x<0, y>0)-plane.\n",
    "    Method for calculating principal axis (similar to tensor of inertia):\n",
    "    https://en.wikipedia.org/wiki/Image_moment\n",
    "    here: y=phi, phi has modulo 2*np.pi but it's not been taken care of hear,\n",
    "    so possible issues with calculating the centroid\n",
    "    -> pre-shifting of events outside of this function solves the problem\n",
    "    for iamge-data with Delta_phi < 2*np.pi\n",
    "  \"\"\"\n",
    "\n",
    "  # Shift\n",
    "  x_centroid = img_mom(x, y, weights, 1, 0) / weights.sum()\n",
    "  y_centroid = img_mom(x, y, weights, 0, 1)/ weights.sum()\n",
    "  x = x - x_centroid\n",
    "  y = y - y_centroid\n",
    "\n",
    "  # Check if shifting worked, there can be problems with modulo variables like phi (y)\n",
    "  # x and y are sorted after highest weight, 0-comp. gives hottest event\n",
    "  # for Jet-like Images Centroid should be close to hottest constituen (pT-sorted arrays)  \n",
    "  global n_shift_phi\n",
    "  global n_shift_eta\n",
    "  if np.abs(x[0]) > __n_warning__:\n",
    "    n_shift_eta += 1  \n",
    "  if np.abs(y[0]) > __n_warning__:\n",
    "    n_shift_phi += 1       \n",
    "\n",
    "  if rotate:\n",
    "    #Ccovariant matrix, eigenvectors corr. to principal axis\n",
    "    u11 = img_mom(x, y, weights, 1, 1) / weights.sum()\n",
    "    u20 = img_mom(x, y, weights, 2, 0) / weights.sum()\n",
    "    u02 = img_mom(x, y, weights, 0, 2) / weights.sum()\n",
    "    cov = np.array([[u20, u11], [u11, u02]])\n",
    "\n",
    "    # Eigenvalues and eigenvectors of covariant matrix\n",
    "    evals, evecs = np.linalg.eig(cov)\n",
    "\n",
    "    # Sorts the eigenvalues, v1, [::-1] turns array around, \n",
    "    sort_indices = np.argsort(evals)[::-1]\n",
    "    e_1 = evecs[:, sort_indices[0]]  # Eigenvector with largest eigenvalue\n",
    "    e_2 = evecs[:, sort_indices[1]]\n",
    "\n",
    "    # Theta to x_asix, arctan2 gives correct angle\n",
    "    theta = np.arctan2(e_1[0], e_1[1])\n",
    "  \n",
    "    # Rotation, so that princple axis is vertical\n",
    "    # anti-clockwise rotation matrix\n",
    "    rotation = np.matrix([[np.cos(theta), -np.sin(theta)],\n",
    "      [np.sin(theta), np.cos(theta)]])\n",
    "    transformed_mat = rotation * np.stack([x,y])\n",
    "    x_rot, y_rot = transformed_mat.A\n",
    "  else: \n",
    "    x_rot, y_rot = x, y\n",
    "  \n",
    "  # Flipping\n",
    "  n_flips = 0\n",
    "  if flip:\n",
    "    if weights[x_rot<0.].sum() < weights[x_rot>0.].sum():\n",
    "      x_rot = -x_rot\n",
    "      n_flips  += 1\n",
    "    if weights[y_rot<0.].sum() > weights[y_rot>0.].sum():\n",
    "      y_rot = -y_rot\n",
    "      n_flips += 1\n",
    "  \n",
    "  return x_rot, y_rot\n",
    "\n",
    "\n",
    "def mass (E,px,py,pz):\n",
    "\n",
    "  mass = np.sqrt(np.maximum(0.,E**2-px**2-py**2-pz**2))\n",
    "  return mass\n",
    "\n",
    "\n",
    "def process_batch (start_id, input, output, n_constit, n_crop, intensity, rotate, flip, crop, norm, **kwargs):\n",
    "\n",
    "    print_time(\"Loading input file (events %i to %i)\"%(start_id,start_id+__batch_size__))\n",
    "    df = pd.read_hdf(input,'table',start=start_id,stop=start_id+__batch_size__)\n",
    "    if df.shape[0] == 0:\n",
    "        return False\n",
    " \n",
    "    print_time(\"Extracting 4-vectors\")\n",
    "    feat_list =  [\"E\",\"PX\",\"PY\",\"PZ\"] \n",
    "    cols = [\"{0}_{1}\".format(feature,constit)\n",
    "            for feature in feat_list for constit in range(n_constit)]\n",
    "    vec4 = np.expand_dims(df[cols],axis=-1).reshape(-1, len(feat_list), n_constit)\n",
    "    isig = df[__signal_col__]\n",
    "\n",
    "    print_time(\"Calculating pT\")\n",
    "    E\t  = vec4[:,0,:]\n",
    "    pxs   = vec4[:,1,:]\n",
    "    pys   = vec4[:,2,:]\n",
    "    pzs   = vec4[:,3,:]\n",
    "    pT    = np.sqrt(pxs**2+pys**2)\n",
    "\n",
    "    print_time(\"Calculating eta\")\n",
    "    etas  = eta(pT,pzs)\n",
    "    print_time(\"Calculating phi\")\n",
    "    phis  = phi(pxs,pys)\n",
    "\n",
    "    print_time(\"Calculating the mass\")\n",
    "    E_tot = E.sum(axis=1)\n",
    "    px_tot = pxs.sum(axis=1)\n",
    "    py_tot = pys.sum(axis=1)\n",
    "    pz_tot = pzs.sum(axis=1)\n",
    "    j_mass = mass(E_tot, px_tot, py_tot, pz_tot)\n",
    "\n",
    "    # Pre-shifting of phi\n",
    "    phis = (phis.T - phis[:,0]).T\n",
    "    phis[phis < -np.pi] += 2*np.pi\n",
    "    phis[phis > np.pi] -= 2*np.pi\n",
    "   \n",
    "    print_time(\"Preprocessing\")\n",
    "    if intensity == \"pT\":\n",
    "        weights = pT\n",
    "    elif intensity == \"E\":\n",
    "        weights = E\n",
    "\n",
    "    for i in np.arange(0,__batch_size__):\n",
    "        etas[i,:], phis[i,:] = preprocessing(etas[i,:], phis[i,:], weights[i,:], rotate, flip)\n",
    "\n",
    "    print_time(\"Creating images\")\n",
    "    z_ori = orig_image(etas, phis, weights)    \n",
    "    print_time(\"Crop and normalize\")\n",
    "    z_new = np.zeros((z_ori.shape[0],n_crop, n_crop))\n",
    "    \n",
    "    for i in range(z_ori.shape[0]):\n",
    "      if crop:\n",
    "        Npix = z_ori[i,:,:].shape\n",
    "        z_new[i,:,:] = z_ori[i, int(Npix[0]/2-n_crop/2):int(Npix[0]/2+n_crop/2), int(Npix[1]/2-n_crop/2):int(Npix[1]/2+n_crop/2)]\n",
    "      else:\n",
    "        z_new = z_ori\n",
    "      if norm:\n",
    "        z_sum = z_new[i,:,:].sum()\n",
    "        if z_sum != 0.:\n",
    "          z_new[i,:,:] = z_new[i,:,:]/z_sum\n",
    "\n",
    "    print_time(\"Reshaping output\")\n",
    "    z_out = z_new.reshape((z_new.shape[0],-1))\n",
    "\n",
    "    print_time(\"Creating output dataframe\")\n",
    "    out_cols = ([\"img_{0}\".format(i) for i in range(z_new.shape[1]*z_new.shape[2])]\n",
    "      + [__signal_col__] +[__mass_col__])\n",
    "\n",
    "    df_out = pd.DataFrame(data=np.concatenate((z_out,isig[:,None],j_mass[:,None]),axis=1),\n",
    "      index=np.arange(start_id,start_id+__batch_size__),\n",
    "      columns=out_cols)\n",
    "    print_time(\"Writing output file\")\n",
    "    df_out.to_hdf(output,\"table\",append=(start_id!=0),format=\"table\",complib = \"blosc\", complevel=5)\n",
    "     \n",
    "    return True\n",
    "\n",
    "\n",
    "def _run ():\n",
    "\n",
    "  # Get input file from command line\n",
    "  parser = argparse.ArgumentParser(description=\"Convert sequential input data to a calorimeter image\")\n",
    "  parser.add_argument(\"--input\", type=str, required=True,\n",
    "    help=\"Input file to convert\")\n",
    "  parser.add_argument(\"--output\", type=str, required=True,\n",
    "    help=\"Output file with calorimeter-based images\")\n",
    "  parser.add_argument(\"--n-events\", type=int, default=-1,\n",
    "    help=\"Number of events to convert [default `all`]\")\n",
    "  parser.add_argument(\"--n-constit\", type=int, default=200,\n",
    "    help=\"Upper limit of constitent in jet.\")\n",
    "  parser.add_argument(\"--n-crop\", type=int, default=40,\n",
    "    help=\"Number of pixels for final image.\")\n",
    "  parser.add_argument(\"--suffix\", type=str, default=\"\",\n",
    "    help=\"Suffix to append to file name.\")\n",
    "  parser.add_argument(\"--intensity\", type=str, default=\"pT\", choices=[\"pT\", \"E\"],\n",
    "    help=\"Content in the image cells [transverse momentum (pT), or energy (E)]\")\n",
    "  parser.add_argument(\"--rotate\", action=\"store_true\",\n",
    "    help=\"Rotate the image based on a PCA.\")\n",
    "  parser.add_argument(\"--flip\", action=\"store_true\",\n",
    "    help=\"Flip the image such that the largest amount of energy is always on one side\")\n",
    "  parser.add_argument(\"--crop\", action=\"store_true\",\n",
    "    help=\"Crop the image to desired size.\")\n",
    "  parser.add_argument(\"--norm\", action=\"store_true\",\n",
    "    help=\"Norm the image by its total energy, i.e., the energy of the jet.\")\n",
    "  args = parser.parse_args()\n",
    "\n",
    "  pprint.pprint(args.__dict__)\n",
    "  max_batches = float(args.n_events)/__batch_size__\n",
    "  start_id, n_shift_phi, n_shift_eta = 0, 0, 0\n",
    "  # Start processing of data\n",
    "  while process_batch(start_id, **args.__dict__):\n",
    "    start_id += __batch_size__\n",
    "    if start_id // __batch_size__ == max_batches:\n",
    "      break\n",
    "\n",
    "  print_time(\"Shuffling samples\")\n",
    "  df = pd.read_hdf(args.output,\"table\")\n",
    "  df = df.iloc[np.random.permutation(len(df))]\n",
    "  df.to_hdf(args.output, \"table\", format=\"table\", complib = \"blosc\", complevel=5)\n",
    "  \n",
    "  if n_shift_eta != 0:\n",
    "    print_time(\"Warning: hottest constituent is supposed to be close to origin.\")\n",
    "    print_time(\"Number of times eta of hottest const. was not close to origin: \" + str(n_shift_eta))\n",
    "  if n_shift_phi != 0:\n",
    "    print_time(\"Warning: hottest constituent is supposed to be close to origin.\")\n",
    "    print_time(\"Number of times phi of hottest const. was not close to origin: \" + str(n_shift_phi))\n",
    "  print_time(\"Finished\")\n",
    "\n",
    "\n",
    "if __name__ == \"__main__\":\n",
    "  \n",
    "  _run()"
   ]
  },
  {
   "cell_type": "markdown",
   "id": "3f312eca",
   "metadata": {},
   "source": [
    "# by changing the phi"
   ]
  },
  {
   "cell_type": "code",
   "execution_count": 113,
   "id": "eb381458",
   "metadata": {},
   "outputs": [],
   "source": [
    "phis = (phis.T - phis[:,0]).T\n",
    "phis[phis < -np.pi] += 2*np.pi\n",
    "phis[phis > np.pi] -= 2*np.pi"
   ]
  },
  {
   "cell_type": "code",
   "execution_count": 19,
   "id": "8c6bb6fa",
   "metadata": {},
   "outputs": [
    {
     "data": {
      "image/png": "[encoded data removed]",
      "text/plain": [
       "<Figure size 1000x300 with 2 Axes>"
      ]
     },
     "metadata": {},
     "output_type": "display_data"
    }
   ],
   "source": [
    "fig, axs = plt.subplots( 1, 2, figsize=(10,3) )\n",
    "rnge = ( ( -1 , 1 ), ( -np.pi/5 , np.pi/5 ) )\n",
    "axs[0].hist2d( etas[0], phis[0], weights=pts[0], bins=40, cmap='jet', range=rnge, norm=colors.LogNorm() )\n",
    "axs[1].hist2d( etas[1], phis[1], weights=pts[1], bins=40, cmap='jet', range=rnge , norm=colors.LogNorm())\n",
    "fig.tight_layout()\n"
   ]
  },
  {
   "cell_type": "code",
   "execution_count": 20,
   "id": "b6763cf9",
   "metadata": {
    "scrolled": true
   },
   "outputs": [
    {
     "data": {
      "image/png": "[encoded data removed]",
      "text/plain": [
       "<Figure size 1000x300 with 2 Axes>"
      ]
     },
     "metadata": {},
     "output_type": "display_data"
    }
   ],
   "source": [
    "fig, axs = plt.subplots( 1, 2, figsize=(10,3) )\n",
    "rnge = ( ( -1 , 1 ), ( -np.pi/5 , np.pi/5 ) )\n",
    "axs[0].hist2d( etas[0], phis[0], weights=pts[0], bins=40, cmap='jet', range=rnge, norm=colors.LogNorm() )\n",
    "axs[1].hist2d( etas[1], phis[1], weights=pts[1], bins=40, cmap='jet', range=rnge, norm=colors.LogNorm() )\n",
    "fig.tight_layout()"
   ]
  },
  {
   "cell_type": "code",
   "execution_count": 21,
   "id": "1cbb4ada",
   "metadata": {},
   "outputs": [
    {
     "data": {
      "image/png": "[encoded data removed]",
      "text/plain": [
       "<Figure size 500x300 with 2 Axes>"
      ]
     },
     "metadata": {},
     "output_type": "display_data"
    }
   ],
   "source": [
    "fig, axs = plt.subplots( 1, 2, figsize=(5,3) )\n",
    "rnge = ( ( -1 , 1 ), ( -np.pi/5 , np.pi/5 ) )\n",
    "axs[0].hist2d( etas.reshape(-1), phis.reshape(-1), weights=pts.reshape(-1), bins=40, cmap='jet', range=rnge, norm=colors.LogNorm() )\n",
    "axs[1].hist2d( etas.reshape(-1), phis.reshape(-1), weights=pts.reshape(-1), bins=40, cmap='gist_heat_r', range=rnge )\n",
    "fig.tight_layout()"
   ]
  },
  {
   "cell_type": "code",
   "execution_count": 22,
   "id": "a7e18a84",
   "metadata": {},
   "outputs": [],
   "source": [
    "# returns image momenta for the centroid and principal axis\n",
    "def img_mom (x, y, weights, x_power, y_power):\n",
    "    return ((x**x_power)*(y**y_power)*weights).sum()"
   ]
  },
  {
   "cell_type": "code",
   "execution_count": 23,
   "id": "04ba4538",
   "metadata": {},
   "outputs": [],
   "source": [
    "def centre_jet(x, y, weights):\n",
    "    x_centroid = img_mom(x, y, weights, 1, 0) / weights.sum()\n",
    "    y_centroid = img_mom(x, y, weights, 0, 1)/ weights.sum()\n",
    "    x = x - x_centroid\n",
    "    y = y - y_centroid\n",
    "    return x, y"
   ]
  },
  {
   "cell_type": "code",
   "execution_count": 24,
   "id": "08d068c8",
   "metadata": {},
   "outputs": [
    {
     "data": {
      "text/plain": [
       "480"
      ]
     },
     "execution_count": 24,
     "metadata": {},
     "output_type": "execute_result"
    }
   ],
   "source": [
    "etas.shape[0]"
   ]
  },
  {
   "cell_type": "code",
   "execution_count": 25,
   "id": "e57fb1b9",
   "metadata": {},
   "outputs": [],
   "source": [
    "for i in range(etas.shape[0]):\n",
    "    etas[i,:], phis[i,:] = centre_jet( etas[i,:], phis[i,:], pts[i,:] )"
   ]
  },
  {
   "cell_type": "code",
   "execution_count": 26,
   "id": "147440c2",
   "metadata": {},
   "outputs": [
    {
     "data": {
      "image/png": "[encoded data removed]",
      "text/plain": [
       "<Figure size 1000x300 with 2 Axes>"
      ]
     },
     "metadata": {},
     "output_type": "display_data"
    }
   ],
   "source": [
    "fig, axs = plt.subplots( 1, 2, figsize=(10,3) )\n",
    "rnge = ( ( -1 , 1 ), ( -np.pi/5 , np.pi/5 ) )\n",
    "axs[0].hist2d( etas[0], phis[0], weights=pts[0], bins=40, cmap='jet', range=rnge, norm=colors.LogNorm() )\n",
    "axs[1].hist2d( etas[1], phis[1], weights=pts[1], bins=40, cmap='jet', range=rnge, norm=colors.LogNorm() )\n",
    "fig.tight_layout()"
   ]
  },
  {
   "cell_type": "code",
   "execution_count": 27,
   "id": "1ffe6dce",
   "metadata": {},
   "outputs": [
    {
     "data": {
      "image/png": "[encoded data removed]",
      "text/plain": [
       "<Figure size 500x300 with 1 Axes>"
      ]
     },
     "metadata": {},
     "output_type": "display_data"
    }
   ],
   "source": [
    "fig, axs = plt.subplots( 1, 1, figsize=(5,3) )\n",
    "rnge = ( ( -1 , 1 ), ( -np.pi/4 , np.pi/4 ) )\n",
    "axs.hist2d( etas.reshape(-1), phis.reshape(-1), weights=pts.reshape(-1), bins=40, cmap='jet', range=rnge, norm=colors.LogNorm() )\n",
    "#axs.hist2d( etas.reshape(-1), phis.reshape(-1), weights=pts.reshape(-1), bins=40, cmap='gist_heat_r', range=rnge )\n",
    "fig.tight_layout()"
   ]
  },
  {
   "cell_type": "code",
   "execution_count": 28,
   "id": "c9951e2a",
   "metadata": {},
   "outputs": [],
   "source": [
    "def rotate_jet(x, y, weights):\n",
    "    # Covariant matrix, eigenvectors corr. to principal axis\n",
    "    u11 = img_mom(x, y, weights, 1, 1) / weights.sum()\n",
    "    u20 = img_mom(x, y, weights, 2, 0) / weights.sum()\n",
    "    u02 = img_mom(x, y, weights, 0, 2) / weights.sum()\n",
    "    cov = np.array([[u20, u11], [u11, u02]])\n",
    "    # Eigenvalues and eigenvectors of covariant matrix\n",
    "    evals, evecs = np.linalg.eig(cov)\n",
    "    # Sorts the eigenvalues, v1, [::-1] turns array around, \n",
    "    sort_indices = np.argsort(evals)[::-1]\n",
    "    e_1 = evecs[:, sort_indices[0]]  # Eigenvector with largest eigenvalue\n",
    "    e_2 = evecs[:, sort_indices[1]]\n",
    "    # Theta to x_axis, arctan2 gives correct angle\n",
    "    theta = np.arctan2(e_1[0], e_1[1])\n",
    "    # Rotation, so that princple axis is vertical\n",
    "    # Anti-clockwise rotation matrix\n",
    "    rotation = np.matrix([[np.cos(theta), -np.sin(theta)], [np.sin(theta), np.cos(theta)]])\n",
    "    transformed_mat = rotation * np.stack([x,y])\n",
    "    x_rot, y_rot = transformed_mat.A\n",
    "    return x_rot, y_rot"
   ]
  },
  {
   "cell_type": "code",
   "execution_count": 59,
   "id": "dc7cacbc",
   "metadata": {},
   "outputs": [],
   "source": [
    "def principal_axis(Subjets):\n",
    "    print('Getting DeltaR for each subjet in the shifted coordinates and the angle theta of the principal axis ...')\n",
    "    print('-----------'*10) \n",
    "    tan_theta=[]#List of the tan(theta) angle to rotate to the principal axis in each jet image\n",
    "    Njets=len(Subjets[1])\n",
    "    for ijet in range(0,Njets):\n",
    "        M11=np.sum(Subjets[0][ijet]*Subjets[1][ijet]*Subjets[2][ijet])\n",
    "        M20=np.sum(Subjets[0][ijet]*Subjets[1][ijet]*Subjets[1][ijet])\n",
    "        M02=np.sum(Subjets[0][ijet]*Subjets[2][ijet]*Subjets[2][ijet])\n",
    "        tan_theta_use=2*M11/(M20-M02+np.sqrt(4*M11*M11+(M20-M02)*(M20-M02)))\n",
    "        tan_theta.append(tan_theta_use)\n",
    "\n",
    "        if ijet == 0:\n",
    "            print(\"principal axis\",tan_theta)\n",
    "#   print('tan(theta)= {}'.format(tan_theta))\n",
    "#   print('-----------'*10)\n",
    "    return tan_theta"
   ]
  },
  {
   "cell_type": "code",
   "execution_count": 60,
   "id": "ecb3a13b",
   "metadata": {},
   "outputs": [],
   "source": [
    "def rotate(Subjets,tan_theta):\n",
    "  print('Rotating the coordinate system so that the principal axis is the same direction (+ eta) for all jets ...')\n",
    "  print('-----------'*10)\n",
    "#   print(Subjets[2][0])\n",
    "#   print('Shifted eta for jet 1= {}'.format(Subjets[1][0]))\n",
    "#   print('Shifted phi for jet 1 = {}'.format(Subjets[2][0]))\n",
    "#   print('-----------'*10)\n",
    "  rot_subjet=[[],[],[]]\n",
    "  Njets=len(Subjets[1])\n",
    "  for ijet in range(0,Njets):\n",
    "    rot_subjet[0].append(Subjets[0][ijet]) \n",
    "    rot_subjet[1].append(Subjets[1][ijet]*np.cos(np.arctan(tan_theta[ijet]))+Subjets[2][ijet]*np.sin(np.arctan(tan_theta[ijet])))\n",
    "    rot_subjet[2].append(-Subjets[1][ijet]*np.sin(np.arctan(tan_theta[ijet]))+Subjets[2][ijet]*np.cos(np.arctan(tan_theta[ijet])))\n",
    "    #print('Rotated phi for jet 1 before fixing -pi<theta<pi = {}'.format(Subjets[2][0]))    \n",
    "    rot_subjet[2][ijet]=np.unwrap(rot_subjet[2][ijet]) #We fix the angle phi to be between (-Pi,Pi]\n",
    "#   print('Subjets pT (before rotation) = {}'.format(Subjets[0]))\n",
    "#   print('-----------'*10)\n",
    "#   print('Subjets pT (after rotation) = {}'.format(rot_subjet[0]))\n",
    "#   print('-----------'*10)\n",
    "#   print('eta = {}'.format(Subjets[1]))\n",
    "#   print('-----------'*10)\n",
    "#   print('Rotated eta = {}'.format(rot_subjet[1]))\n",
    "#   print('-----------'*10)\n",
    "#   print('Rotated phi = {}'.format(Subjets[2]))\n",
    "#   print('-----------'*10)\n",
    "#   print('Rotated phi = {}'.format(rot_subjet[2]))\n",
    "#   print('-----------'*10)\n",
    "#   print('-----------'*10)\n",
    "  return rot_subjet\n",
    "  "
   ]
  },
  {
   "cell_type": "code",
   "execution_count": 29,
   "id": "295bfbd1",
   "metadata": {},
   "outputs": [],
   "source": [
    "for i in range(etas.shape[0]):\n",
    "    etas[i,:], phis[i,:] = rotate_jet( etas[i,:], phis[i,:], pts[i,:] )"
   ]
  },
  {
   "cell_type": "code",
   "execution_count": 61,
   "id": "ce04cb5c",
   "metadata": {},
   "outputs": [
    {
     "ename": "TypeError",
     "evalue": "rotate() takes 2 positional arguments but 3 were given",
     "output_type": "error",
     "traceback": [
      "\u001b[0;31m---------------------------------------------------------------------------\u001b[0m",
      "\u001b[0;31mTypeError\u001b[0m                                 Traceback (most recent call last)",
      "Cell \u001b[0;32mIn[61], line 2\u001b[0m\n\u001b[1;32m      1\u001b[0m \u001b[38;5;28;01mfor\u001b[39;00m i \u001b[38;5;129;01min\u001b[39;00m \u001b[38;5;28mrange\u001b[39m(etas\u001b[38;5;241m.\u001b[39mshape[\u001b[38;5;241m0\u001b[39m]):\n\u001b[0;32m----> 2\u001b[0m     etas[i,:], phis[i,:] \u001b[38;5;241m=\u001b[39m \u001b[43mrotate\u001b[49m\u001b[43m(\u001b[49m\u001b[43m \u001b[49m\u001b[43metas\u001b[49m\u001b[43m[\u001b[49m\u001b[43mi\u001b[49m\u001b[43m,\u001b[49m\u001b[43m:\u001b[49m\u001b[43m]\u001b[49m\u001b[43m,\u001b[49m\u001b[43m \u001b[49m\u001b[43mphis\u001b[49m\u001b[43m[\u001b[49m\u001b[43mi\u001b[49m\u001b[43m,\u001b[49m\u001b[43m:\u001b[49m\u001b[43m]\u001b[49m\u001b[43m,\u001b[49m\u001b[43m \u001b[49m\u001b[43mpts\u001b[49m\u001b[43m[\u001b[49m\u001b[43mi\u001b[49m\u001b[43m,\u001b[49m\u001b[43m:\u001b[49m\u001b[43m]\u001b[49m\u001b[43m \u001b[49m\u001b[43m)\u001b[49m\n",
      "\u001b[0;31mTypeError\u001b[0m: rotate() takes 2 positional arguments but 3 were given"
     ]
    }
   ],
   "source": [
    "for i in range(etas.shape[0]):\n",
    "    etas[i,:], phis[i,:] = rotate( etas[i,:], phis[i,:], pts[i,:] )"
   ]
  },
  {
   "cell_type": "code",
   "execution_count": 30,
   "id": "f5e11926",
   "metadata": {
    "scrolled": true
   },
   "outputs": [
    {
     "data": {
      "image/png": "[encoded data removed]",
      "text/plain": [
       "<Figure size 1000x300 with 2 Axes>"
      ]
     },
     "metadata": {},
     "output_type": "display_data"
    }
   ],
   "source": [
    "fig, axs = plt.subplots( 1, 2, figsize=(10,3) )\n",
    "rnge = ( ( -1 , 1 ), ( -np.pi/5 , np.pi/5 ) )\n",
    "axs[0].hist2d( etas[0], phis[0], weights=pts[0], bins=40, cmap='jet', range=rnge, norm=colors.LogNorm() )\n",
    "axs[1].hist2d( etas[1], phis[1], weights=pts[1], bins=40, cmap='jet', range=rnge, norm=colors.LogNorm() )\n",
    "fig.tight_layout()"
   ]
  },
  {
   "cell_type": "code",
   "execution_count": 31,
   "id": "38b07636",
   "metadata": {},
   "outputs": [
    {
     "data": {
      "image/png": "[encoded data removed]",
      "text/plain": [
       "<Figure size 500x300 with 1 Axes>"
      ]
     },
     "metadata": {},
     "output_type": "display_data"
    }
   ],
   "source": [
    "fig, axs = plt.subplots( 1, 1, figsize=(5,3) )\n",
    "rnge = ( ( -1 , 1 ), ( -np.pi/4 , np.pi/4 ) )\n",
    "axs.hist2d( etas.reshape(-1), phis.reshape(-1), weights=pts.reshape(-1), bins=40, cmap='jet', range=rnge, norm=colors.LogNorm() )\n",
    "#axs.hist2d( etas.reshape(-1), phis.reshape(-1), weights=pts.reshape(-1), bins=40, cmap='gist_heat_r', range=rnge )\n",
    "fig.tight_layout()"
   ]
  },
  {
   "cell_type": "code",
   "execution_count": 32,
   "id": "235489bc",
   "metadata": {},
   "outputs": [],
   "source": [
    "def flip_jet(x, y, weights):\n",
    "    if weights[x<0.].sum() < weights[x>0.].sum():\n",
    "        x = -x\n",
    "    if weights[y<0.].sum() > weights[y>0.].sum():\n",
    "        y = -y\n",
    "    return x,y"
   ]
  },
  {
   "cell_type": "code",
   "execution_count": 33,
   "id": "77fb0ba4",
   "metadata": {},
   "outputs": [],
   "source": [
    "for i in range(etas.shape[0]):\n",
    "    etas[i,:], phis[i,:] = flip_jet( etas[i,:], phis[i,:], pts[i,:] )\n"
   ]
  },
  {
   "cell_type": "code",
   "execution_count": 34,
   "id": "1ea5ed31",
   "metadata": {},
   "outputs": [
    {
     "data": {
      "image/png": "[encoded data removed]",
      "text/plain": [
       "<Figure size 1000x300 with 2 Axes>"
      ]
     },
     "metadata": {},
     "output_type": "display_data"
    }
   ],
   "source": [
    "fig, axs = plt.subplots( 1, 2, figsize=(10,3) )\n",
    "rnge = ( ( -0.2 , 0.2 ), ( -np.pi/5 , np.pi/5 ) )\n",
    "axs[0].hist2d( etas[0], phis[0], weights=pts[0], bins=40, cmap='jet', range=rnge, norm=colors.LogNorm() )\n",
    "axs[1].hist2d( etas[1], phis[1], weights=pts[1], bins=40, cmap='jet', range=rnge , norm=colors.LogNorm())\n",
    "fig.tight_layout()"
   ]
  },
  {
   "cell_type": "code",
   "execution_count": 35,
   "id": "b2c96db8",
   "metadata": {},
   "outputs": [
    {
     "data": {
      "image/png": "[encoded data removed]",
      "text/plain": [
       "<Figure size 500x300 with 1 Axes>"
      ]
     },
     "metadata": {},
     "output_type": "display_data"
    }
   ],
   "source": [
    "fig, axs = plt.subplots( 1, 1, figsize=(5,3) )\n",
    "rnge = ( ( -1 , 1 ), ( -np.pi/4 , np.pi/4 ) )\n",
    "axs.hist2d( etas.reshape(-1), phis.reshape(-1), weights=pts.reshape(-1), bins=40, cmap='jet', range=rnge, norm=colors.LogNorm() )\n",
    "axs.hist2d( etas.reshape(-1), phis.reshape(-1), weights=pts.reshape(-1), bins=40, cmap='gist_heat_r', range=rnge )\n",
    "fig.tight_layout()"
   ]
  },
  {
   "cell_type": "code",
   "execution_count": 36,
   "id": "04b24af4",
   "metadata": {},
   "outputs": [
    {
     "data": {
      "text/plain": [
       "(9600,)"
      ]
     },
     "execution_count": 36,
     "metadata": {},
     "output_type": "execute_result"
    }
   ],
   "source": [
    "etas.reshape(-1).shape"
   ]
  },
  {
   "cell_type": "code",
   "execution_count": 37,
   "id": "9896c351",
   "metadata": {},
   "outputs": [],
   "source": [
    "# Grid settings\n",
    "xpixels = np.arange(-2.6, 2.6, 0.029)\n",
    "ypixels = np.arange(-np.pi, np.pi, 0.035)"
   ]
  },
  {
   "cell_type": "code",
   "execution_count": 38,
   "id": "e7e49463",
   "metadata": {},
   "outputs": [],
   "source": [
    "# Put eta-phi entries on grid\n",
    "def orig_image (etas, phis, es):\n",
    "    # gives the value on grid with minimal distance,\n",
    "    # eg. for xpixel = (0,1,2,3,..) eta=1.3 -> xpixel=1, eta=1.6 ->xpixel=2\n",
    "    # first define the grid full of zeros\n",
    "    z = np.zeros( ( etas.shape[0], len(xpixels), len(ypixels) ) )\n",
    "    # now we want a vector telling us if a point is in the grid\n",
    "    in_grid = ~((etas < xpixels[0]) | (etas > xpixels[-1]) | (phis < ypixels[0]) | (phis > ypixels[-1]))\n",
    "    # for each eta and phi we now find the cell on the grid that is closest to the actual coordinate\n",
    "    xcoords = np.argmin( np.abs( etas[:,None,:] - xpixels[None,:,None] ), axis=1 )\n",
    "    ycoords = np.argmin( np.abs( phis[:,None,:] - ypixels[None,:,None] ), axis=1 )\n",
    "    # create a grid where each row is filled with the event number\n",
    "    ncoords = np.repeat( np.arange( etas.shape[0])[:,None], etas.shape[1], axis=1 )\n",
    "    # create a single array for all images, for each jet there is a 180x180 matrix\n",
    "    z[ ncoords[in_grid], ycoords[in_grid], xcoords[in_grid] ] = es[in_grid]\n",
    "    return z"
   ]
  },
  {
   "cell_type": "code",
   "execution_count": 39,
   "id": "b7dbe453",
   "metadata": {},
   "outputs": [
    {
     "data": {
      "text/plain": [
       "(480, 1, 20)"
      ]
     },
     "execution_count": 39,
     "metadata": {},
     "output_type": "execute_result"
    }
   ],
   "source": [
    "etas[:,None,:].shape"
   ]
  },
  {
   "cell_type": "code",
   "execution_count": 40,
   "id": "f75aefa3",
   "metadata": {},
   "outputs": [
    {
     "data": {
      "text/plain": [
       "(1, 180, 1)"
      ]
     },
     "execution_count": 40,
     "metadata": {},
     "output_type": "execute_result"
    }
   ],
   "source": [
    "xpixels[None,:,None].shape\n"
   ]
  },
  {
   "cell_type": "code",
   "execution_count": 41,
   "id": "5da99500",
   "metadata": {},
   "outputs": [
    {
     "data": {
      "text/plain": [
       "(480, 180, 20)"
      ]
     },
     "execution_count": 41,
     "metadata": {},
     "output_type": "execute_result"
    }
   ],
   "source": [
    "( etas[:,None,:] - xpixels[None,:,None] ).shape"
   ]
  },
  {
   "cell_type": "code",
   "execution_count": 42,
   "id": "5f793291",
   "metadata": {},
   "outputs": [
    {
     "data": {
      "text/plain": [
       "(480, 180, 20)"
      ]
     },
     "execution_count": 42,
     "metadata": {},
     "output_type": "execute_result"
    }
   ],
   "source": [
    "np.abs( etas[:,None,:] - xpixels[None,:,None] ).shape\n"
   ]
  },
  {
   "cell_type": "code",
   "execution_count": 43,
   "id": "3a4adf18",
   "metadata": {},
   "outputs": [
    {
     "data": {
      "text/plain": [
       "(480, 20)"
      ]
     },
     "execution_count": 43,
     "metadata": {},
     "output_type": "execute_result"
    }
   ],
   "source": [
    "np.argmin( np.abs(etas[:,None,:] - xpixels[None,:,None] ), axis=1 ).shape\n"
   ]
  },
  {
   "cell_type": "code",
   "execution_count": 44,
   "id": "bd270763",
   "metadata": {},
   "outputs": [
    {
     "data": {
      "text/plain": [
       "array([90, 89, 86, 94, 90, 90, 89, 93, 87, 86, 91, 89, 90, 88, 90, 90, 93,\n",
       "       89, 95, 89])"
      ]
     },
     "execution_count": 44,
     "metadata": {},
     "output_type": "execute_result"
    }
   ],
   "source": [
    "np.argmin( np.abs(etas[:,None,:] - xpixels[None,:,None] ), axis=1 )[0]"
   ]
  },
  {
   "cell_type": "code",
   "execution_count": 45,
   "id": "ea55c1f5",
   "metadata": {},
   "outputs": [
    {
     "data": {
      "text/plain": [
       "(480, 20)"
      ]
     },
     "execution_count": 45,
     "metadata": {},
     "output_type": "execute_result"
    }
   ],
   "source": [
    "np.repeat( np.arange( etas.shape[0])[:,None], etas.shape[1], axis=1 ).shape\n"
   ]
  },
  {
   "cell_type": "code",
   "execution_count": 46,
   "id": "45911894",
   "metadata": {},
   "outputs": [
    {
     "data": {
      "text/plain": [
       "array([[  0,   0,   0, ...,   0,   0,   0],\n",
       "       [  1,   1,   1, ...,   1,   1,   1],\n",
       "       [  2,   2,   2, ...,   2,   2,   2],\n",
       "       ...,\n",
       "       [477, 477, 477, ..., 477, 477, 477],\n",
       "       [478, 478, 478, ..., 478, 478, 478],\n",
       "       [479, 479, 479, ..., 479, 479, 479]])"
      ]
     },
     "execution_count": 46,
     "metadata": {},
     "output_type": "execute_result"
    }
   ],
   "source": [
    "np.repeat( np.arange( etas.shape[0])[:,None], etas.shape[1], axis=1 )\n"
   ]
  },
  {
   "cell_type": "code",
   "execution_count": 47,
   "id": "1ba88ae4",
   "metadata": {},
   "outputs": [
    {
     "data": {
      "text/plain": [
       "(480, 20)"
      ]
     },
     "execution_count": 47,
     "metadata": {},
     "output_type": "execute_result"
    }
   ],
   "source": [
    "in_grid_p = ~((etas < xpixels[0]) | (etas > xpixels[-1]) | (phis < ypixels[0]) | (phis > ypixels[-1]))\n",
    "in_grid_p.shape"
   ]
  },
  {
   "cell_type": "code",
   "execution_count": 48,
   "id": "4f1512a1",
   "metadata": {},
   "outputs": [
    {
     "data": {
      "text/plain": [
       "(9600,)"
      ]
     },
     "execution_count": 48,
     "metadata": {},
     "output_type": "execute_result"
    }
   ],
   "source": [
    "np.repeat( np.arange( etas.shape[0])[:,None], etas.shape[1], axis=1 )[in_grid_p]\n",
    "np.repeat( np.arange( etas.shape[0])[:,None], etas.shape[1], axis=1 )[in_grid_p].shape"
   ]
  },
  {
   "cell_type": "code",
   "execution_count": 49,
   "id": "5dc73f55",
   "metadata": {},
   "outputs": [],
   "source": [
    "xcoords_p = np.argmin( np.abs( etas[:,None,:] - xpixels[None,:,None] ), axis=1 )\n",
    "ycoords_p = np.argmin( np.abs( phis[:,None,:] - ypixels[None,:,None] ), axis=1 )\n",
    "ncoords_p = np.repeat( np.arange( etas.shape[0])[:,None], etas.shape[1], axis=1 )\n",
    "z_p = np.zeros( ( etas.shape[0], len(xpixels), len(ypixels) ) )\n",
    "z_p[ ncoords_p[in_grid_p], ycoords_p[in_grid_p], xcoords_p[in_grid_p] ] = pts[in_grid_p]"
   ]
  },
  {
   "cell_type": "code",
   "execution_count": 50,
   "id": "2e4a6ffc",
   "metadata": {},
   "outputs": [
    {
     "data": {
      "text/plain": [
       "(480, 180, 180)"
      ]
     },
     "execution_count": 50,
     "metadata": {},
     "output_type": "execute_result"
    }
   ],
   "source": [
    "z_p.shape"
   ]
  },
  {
   "cell_type": "code",
   "execution_count": 51,
   "id": "b301a6e6",
   "metadata": {},
   "outputs": [],
   "source": [
    "z_ori = orig_image(etas, phis, pts)\n"
   ]
  },
  {
   "cell_type": "code",
   "execution_count": 52,
   "id": "581f8eda",
   "metadata": {},
   "outputs": [],
   "source": [
    "crop = True\n",
    "norm = True\n",
    "n_crop = 40\n",
    "z_new = np.zeros((z_ori.shape[0],n_crop, n_crop))\n",
    "for i in range(z_ori.shape[0]):\n",
    "    if crop:\n",
    "        Npix = z_ori[i,:,:].shape\n",
    "        z_new[i,:,:] = z_ori[i, int(Npix[0]/2-n_crop/2):int(Npix[0]/2+n_crop/2), int(Npix[1]/2-n_crop/2):int(Npix[1]/2+n_crop/2)]\n",
    "    else:\n",
    "        z_new = z_ori\n",
    "        if norm:\n",
    "            z_sum = z_new[i,:,:].sum()\n",
    "            if z_sum != 0.:\n",
    "                z_new[i,:,:] = z_new[i,:,:]/z_sum"
   ]
  },
  {
   "cell_type": "code",
   "execution_count": 53,
   "id": "74f5cd14",
   "metadata": {},
   "outputs": [
    {
     "data": {
      "image/png": "[encoded data removed]",
      "text/plain": [
       "<Figure size 800x300 with 2 Axes>"
      ]
     },
     "metadata": {},
     "output_type": "display_data"
    }
   ],
   "source": [
    "fig, axs = plt.subplots( 1, 2, figsize=(8,3) )\n",
    "axs[0].imshow( z_new[0], cmap='jet', norm=colors.LogNorm() )\n",
    "axs[1].imshow( z_new[1], cmap='jet', norm=colors.LogNorm() )\n",
    "fig.tight_layout()"
   ]
  },
  {
   "cell_type": "code",
   "execution_count": 54,
   "id": "8fb9708c",
   "metadata": {},
   "outputs": [
    {
     "data": {
      "image/png": "[encoded data removed]",
      "text/plain": [
       "<Figure size 800x300 with 1 Axes>"
      ]
     },
     "metadata": {},
     "output_type": "display_data"
    }
   ],
   "source": [
    "z_ave = z_new[0]\n",
    "for i in z_new:\n",
    "    z_ave+=i\n",
    "fig, axs = plt.subplots( 1, 1, figsize=(8,3) )\n",
    "axs.imshow( z_ave, cmap='jet', norm=colors.LogNorm() )\n",
    "fig.tight_layout()"
   ]
  },
  {
   "cell_type": "code",
   "execution_count": 60,
   "id": "5c760694",
   "metadata": {},
   "outputs": [
    {
     "ename": "NameError",
     "evalue": "name 'isig' is not defined",
     "output_type": "error",
     "traceback": [
      "\u001b[0;31m---------------------------------------------------------------------------\u001b[0m",
      "\u001b[0;31mNameError\u001b[0m                                 Traceback (most recent call last)",
      "Cell \u001b[0;32mIn[60], line 1\u001b[0m\n\u001b[0;32m----> 1\u001b[0m z_qcd_ave \u001b[38;5;241m=\u001b[39m z_new[\u001b[43misig\u001b[49m\u001b[38;5;241m.\u001b[39mto_numpy()\u001b[38;5;241m==\u001b[39m\u001b[38;5;241m0\u001b[39m][\u001b[38;5;241m0\u001b[39m]\n\u001b[1;32m      2\u001b[0m \u001b[38;5;28;01mfor\u001b[39;00m i \u001b[38;5;129;01min\u001b[39;00m z_new[ isig\u001b[38;5;241m.\u001b[39mto_numpy()\u001b[38;5;241m==\u001b[39m\u001b[38;5;241m0\u001b[39m ]:\n\u001b[1;32m      3\u001b[0m     z_qcd_ave\u001b[38;5;241m+\u001b[39m\u001b[38;5;241m=\u001b[39mi\n",
      "\u001b[0;31mNameError\u001b[0m: name 'isig' is not defined"
     ]
    }
   ],
   "source": [
    "z_qcd_ave = z_new[isig.to_numpy()==0][0]\n",
    "for i in z_new[ isig.to_numpy()==0 ]:\n",
    "    z_qcd_ave+=i\n",
    "z_top_ave = z_new[isig.to_numpy()==1][0]\n",
    "for i in z_new[ isig.to_numpy()==1 ]:\n",
    "    z_top_ave+=i\n",
    "fig, axs = plt.subplots( 1, 2, figsize=(10,3) )\n",
    "axs[0].imshow( z_qcd_ave, cmap='gist_heat_r' )\n",
    "axs[1].imshow( z_top_ave, cmap='gist_heat_r' )\n",
    "fig.tight_layout()"
   ]
  },
  {
   "cell_type": "code",
   "execution_count": null,
   "id": "e4503742",
   "metadata": {},
   "outputs": [],
   "source": []
  }
 ],
 "metadata": {
  "kernelspec": {
   "display_name": "Python 3 (ipykernel)",
   "language": "python",
   "name": "python3"
  },
  "language_info": {
   "codemirror_mode": {
    "name": "ipython",
    "version": 3
   },
   "file_extension": ".py",
   "mimetype": "text/x-python",
   "name": "python",
   "nbconvert_exporter": "python",
   "pygments_lexer": "ipython3",
   "version": "3.11.3"
  }
 },
 "nbformat": 4,
 "nbformat_minor": 5
}
